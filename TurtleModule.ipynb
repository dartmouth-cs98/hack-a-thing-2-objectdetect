{
 "cells": [
  {
   "cell_type": "code",
   "execution_count": 1,
   "metadata": {},
   "outputs": [],
   "source": [
    "import turtle\n",
    "from PIL import Image\n",
    "from turtle import Screen, Turtle\n",
    "\n",
    "screen = Screen()\n",
    "t = Turtle(\"turtle\")\n",
    "t.speed(-1)\n",
    "\n",
    "def dragging(x, y):  # These parameters will be the mouse position\n",
    "    t.ondrag(None)\n",
    "    t.setheading(t.towards(x, y))\n",
    "    t.goto(x, y)\n",
    "    t.ondrag(dragging)\n",
    "\n",
    "def clickRight(x, y):\n",
    "    ts = turtle.getscreen()\n",
    "    ts.getcanvas().postscript(file=\"image.eps\")\n",
    "    turtle.bye()\n",
    "    eps_image = Image.open('image.eps')\n",
    "    eps_image.save('im.jpg')\n",
    "    \n",
    "def main():  # This will run the program\n",
    "    turtle.listen()\n",
    "    \n",
    "    t.ondrag(dragging)  # When we drag the turtle object call dragging\n",
    "    turtle.onscreenclick(clickRight, 2)\n",
    "\n",
    "    screen.mainloop()  # This will continue running main() \n",
    "\n",
    "main()\n"
   ]
  },
  {
   "cell_type": "code",
   "execution_count": 2,
   "metadata": {},
   "outputs": [
    {
     "name": "stdout",
     "output_type": "stream",
     "text": [
      "12\n"
     ]
    }
   ],
   "source": [
    "print(12)"
   ]
  }
 ],
 "metadata": {
  "kernelspec": {
   "display_name": "Python 3",
   "language": "python",
   "name": "python3"
  },
  "language_info": {
   "codemirror_mode": {
    "name": "ipython",
    "version": 3
   },
   "file_extension": ".py",
   "mimetype": "text/x-python",
   "name": "python",
   "nbconvert_exporter": "python",
   "pygments_lexer": "ipython3",
   "version": "3.6.5"
  }
 },
 "nbformat": 4,
 "nbformat_minor": 2
}
